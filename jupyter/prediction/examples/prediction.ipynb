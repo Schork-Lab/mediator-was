{
 "cells": [
  {
   "cell_type": "code",
   "execution_count": 39,
   "metadata": {
    "collapsed": false
   },
   "outputs": [
    {
     "name": "stdout",
     "output_type": "stream",
     "text": [
      "Overwriting ../../../examples/example.gen\n"
     ]
    }
   ],
   "source": [
    "%%writefile ../../../examples/example.gen\n",
    "1 rs1 1000 A C 1 0 0 1 0 0\n",
    "1 rs2 2000 G T 1 0 0 0 1 0\n",
    "2 rs3 3000 C T 1 0 0 0 1 0\n",
    "2 rs4 4000 C T 0 1 0 0 1 0\n",
    "2 rs5 5000 A G 0 1 0 0 0 1"
   ]
  },
  {
   "cell_type": "code",
   "execution_count": 31,
   "metadata": {
    "collapsed": false
   },
   "outputs": [
    {
     "name": "stdout",
     "output_type": "stream",
     "text": [
      "Writing ../../../examples/example.samples\n"
     ]
    }
   ],
   "source": [
    "%%writefile ../../../examples/example.samples\n",
    "ID_1 ID_2 missing cov_1 cov_2 cov_3 cov_4 pheno1 bin1\n",
    "1 A 0.007 1 2 0.0019 -0.008 1.233 1\n",
    "2 B 0.009 1 2 0.0022 -0.001 6.234 0"
   ]
  },
  {
   "cell_type": "code",
   "execution_count": 12,
   "metadata": {
    "collapsed": false
   },
   "outputs": [
    {
     "name": "stdout",
     "output_type": "stream",
     "text": [
      "Writing ../../../examples/example.vcf\n"
     ]
    }
   ],
   "source": [
    "%%writefile ../../../examples/example.vcf\n",
    "#CHROM POS ID REF ALT QUAL FILTER INFO FORMAT A B\n",
    "1 1000 rs1 A C . . . . 0/0 0/0\n",
    "1 2000 rs2 G T . . . . 0/0 0/1\n",
    "2 3000 rs3 C T . . . . 0/0 0/1\n",
    "2 4000 rs4 C T . . . . 0/1 0/1\n",
    "2 5000 rs5 A G . . . . 0/1 1/1"
   ]
  },
  {
   "cell_type": "code",
   "execution_count": 43,
   "metadata": {
    "collapsed": false
   },
   "outputs": [
    {
     "name": "stdout",
     "output_type": "stream",
     "text": [
      "Overwriting ../../../examples/example.weights\n"
     ]
    }
   ],
   "source": [
    "%%writefile ../../../examples/example.weights\n",
    "chromosome position rsid ref alt beta gene\n",
    "1 1000 rs1 A C -5 Test1\n",
    "1 2000 rs2 G T -50 Test2\n",
    "1 2000 rs2 G T -500 Test3\n",
    "2 3000 rs3 C T -1000 Test2\n",
    "2 4000 rs4 C T -5000 Test3\n",
    "2 5000 rs5 A G -10000 Test3\n",
    "2 5005 rs6 A G -50000 Test4"
   ]
  },
  {
   "cell_type": "code",
   "execution_count": 44,
   "metadata": {
    "collapsed": false
   },
   "outputs": [
    {
     "data": {
      "text/html": [
       "<div>\n",
       "<table border=\"1\" class=\"dataframe\">\n",
       "  <thead>\n",
       "    <tr style=\"text-align: right;\">\n",
       "      <th></th>\n",
       "      <th>A</th>\n",
       "      <th>B</th>\n",
       "    </tr>\n",
       "  </thead>\n",
       "  <tbody>\n",
       "    <tr>\n",
       "      <th>Test1</th>\n",
       "      <td>0</td>\n",
       "      <td>0</td>\n",
       "    </tr>\n",
       "    <tr>\n",
       "      <th>Test3</th>\n",
       "      <td>-15000</td>\n",
       "      <td>-25500</td>\n",
       "    </tr>\n",
       "    <tr>\n",
       "      <th>Test2</th>\n",
       "      <td>0</td>\n",
       "      <td>-1050</td>\n",
       "    </tr>\n",
       "  </tbody>\n",
       "</table>\n",
       "</div>"
      ],
      "text/plain": [
       "           A      B\n",
       "Test1      0      0\n",
       "Test3 -15000 -25500\n",
       "Test2      0  -1050"
      ]
     },
     "execution_count": 44,
     "metadata": {},
     "output_type": "execute_result"
    }
   ],
   "source": [
    "import mediator_was.prediction.predict as predict\n",
    "reload(predict)\n",
    "predict.stream('../../../examples/example.weights', '../../../examples/example.vcf','vcf')"
   ]
  },
  {
   "cell_type": "code",
   "execution_count": 45,
   "metadata": {
    "collapsed": false
   },
   "outputs": [
    {
     "data": {
      "text/html": [
       "<div>\n",
       "<table border=\"1\" class=\"dataframe\">\n",
       "  <thead>\n",
       "    <tr style=\"text-align: right;\">\n",
       "      <th>ID_2</th>\n",
       "      <th>A</th>\n",
       "      <th>B</th>\n",
       "    </tr>\n",
       "  </thead>\n",
       "  <tbody>\n",
       "    <tr>\n",
       "      <th>Test1</th>\n",
       "      <td>0</td>\n",
       "      <td>0</td>\n",
       "    </tr>\n",
       "    <tr>\n",
       "      <th>Test3</th>\n",
       "      <td>-15000</td>\n",
       "      <td>-25500</td>\n",
       "    </tr>\n",
       "    <tr>\n",
       "      <th>Test2</th>\n",
       "      <td>0</td>\n",
       "      <td>-1050</td>\n",
       "    </tr>\n",
       "  </tbody>\n",
       "</table>\n",
       "</div>"
      ],
      "text/plain": [
       "ID_2       A      B\n",
       "Test1      0      0\n",
       "Test3 -15000 -25500\n",
       "Test2      0  -1050"
      ]
     },
     "execution_count": 45,
     "metadata": {},
     "output_type": "execute_result"
    }
   ],
   "source": [
    "import mediator_was.prediction.predict as predict\n",
    "reload(predict)\n",
    "predict.stream('../../../examples/example.weights', '../../../examples/example.gen','oxstats')"
   ]
  },
  {
   "cell_type": "code",
   "execution_count": null,
   "metadata": {
    "collapsed": true
   },
   "outputs": [],
   "source": []
  }
 ],
 "metadata": {
  "kernelspec": {
   "display_name": "Python 2",
   "language": "python",
   "name": "python2"
  },
  "language_info": {
   "codemirror_mode": {
    "name": "ipython",
    "version": 2
   },
   "file_extension": ".py",
   "mimetype": "text/x-python",
   "name": "python",
   "nbconvert_exporter": "python",
   "pygments_lexer": "ipython2",
   "version": "2.7.10"
  }
 },
 "nbformat": 4,
 "nbformat_minor": 0
}
