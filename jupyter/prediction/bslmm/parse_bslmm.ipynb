{
 "cells": [
  {
   "cell_type": "code",
   "execution_count": 1,
   "metadata": {
    "collapsed": false
   },
   "outputs": [],
   "source": [
    "%load_ext autoreload\n",
    "%autoreload 1"
   ]
  },
  {
   "cell_type": "code",
   "execution_count": 2,
   "metadata": {
    "collapsed": true
   },
   "outputs": [],
   "source": [
    "import os\n",
    "import pandas as pd"
   ]
  },
  {
   "cell_type": "code",
   "execution_count": 3,
   "metadata": {
    "collapsed": false
   },
   "outputs": [],
   "source": [
    "import mediator_was.processing.bslmm as bslmm"
   ]
  },
  {
   "cell_type": "code",
   "execution_count": 4,
   "metadata": {
    "collapsed": true
   },
   "outputs": [],
   "source": [
    "config = bslmm.config"
   ]
  },
  {
   "cell_type": "code",
   "execution_count": 5,
   "metadata": {
    "collapsed": true
   },
   "outputs": [],
   "source": [
    "studies = bslmm.parse_studies()"
   ]
  },
  {
   "cell_type": "code",
   "execution_count": 6,
   "metadata": {
    "collapsed": false
   },
   "outputs": [
    {
     "data": {
      "text/plain": [
       "['NTR', 'YFS']"
      ]
     },
     "execution_count": 6,
     "metadata": {},
     "output_type": "execute_result"
    }
   ],
   "source": [
    "studies.keys()"
   ]
  },
  {
   "cell_type": "code",
   "execution_count": 7,
   "metadata": {
    "collapsed": false
   },
   "outputs": [
    {
     "data": {
      "text/html": [
       "<div>\n",
       "<table border=\"1\" class=\"dataframe\">\n",
       "  <thead>\n",
       "    <tr style=\"text-align: right;\">\n",
       "      <th></th>\n",
       "      <th>SNP_ID</th>\n",
       "      <th>SNP_Pos</th>\n",
       "      <th>Ref_Allele</th>\n",
       "      <th>Alt_Allele</th>\n",
       "      <th>beta</th>\n",
       "      <th>Gene</th>\n",
       "    </tr>\n",
       "  </thead>\n",
       "  <tbody>\n",
       "    <tr>\n",
       "      <th>0</th>\n",
       "      <td>rs1402325</td>\n",
       "      <td>44105736</td>\n",
       "      <td>A</td>\n",
       "      <td>G</td>\n",
       "      <td>-0.088050</td>\n",
       "      <td>ZNF224</td>\n",
       "    </tr>\n",
       "    <tr>\n",
       "      <th>1</th>\n",
       "      <td>rs304719</td>\n",
       "      <td>44108635</td>\n",
       "      <td>G</td>\n",
       "      <td>A</td>\n",
       "      <td>-0.022893</td>\n",
       "      <td>ZNF224</td>\n",
       "    </tr>\n",
       "    <tr>\n",
       "      <th>2</th>\n",
       "      <td>rs368745</td>\n",
       "      <td>44124368</td>\n",
       "      <td>T</td>\n",
       "      <td>G</td>\n",
       "      <td>-0.149900</td>\n",
       "      <td>ZNF224</td>\n",
       "    </tr>\n",
       "    <tr>\n",
       "      <th>3</th>\n",
       "      <td>rs3046</td>\n",
       "      <td>44124735</td>\n",
       "      <td>T</td>\n",
       "      <td>C</td>\n",
       "      <td>0.075660</td>\n",
       "      <td>ZNF224</td>\n",
       "    </tr>\n",
       "    <tr>\n",
       "      <th>4</th>\n",
       "      <td>rs400058</td>\n",
       "      <td>44141015</td>\n",
       "      <td>T</td>\n",
       "      <td>C</td>\n",
       "      <td>0.020551</td>\n",
       "      <td>ZNF224</td>\n",
       "    </tr>\n",
       "  </tbody>\n",
       "</table>\n",
       "</div>"
      ],
      "text/plain": [
       "      SNP_ID   SNP_Pos Ref_Allele Alt_Allele      beta    Gene\n",
       "0  rs1402325  44105736          A          G -0.088050  ZNF224\n",
       "1   rs304719  44108635          G          A -0.022893  ZNF224\n",
       "2   rs368745  44124368          T          G -0.149900  ZNF224\n",
       "3     rs3046  44124735          T          C  0.075660  ZNF224\n",
       "4   rs400058  44141015          T          C  0.020551  ZNF224"
      ]
     },
     "execution_count": 7,
     "metadata": {},
     "output_type": "execute_result"
    }
   ],
   "source": [
    "studies['YFS'].head()"
   ]
  },
  {
   "cell_type": "code",
   "execution_count": 8,
   "metadata": {
    "collapsed": false
   },
   "outputs": [
    {
     "data": {
      "text/html": [
       "<div>\n",
       "<table border=\"1\" class=\"dataframe\">\n",
       "  <thead>\n",
       "    <tr style=\"text-align: right;\">\n",
       "      <th></th>\n",
       "      <th>SNP_ID</th>\n",
       "      <th>SNP_Pos</th>\n",
       "      <th>Ref_Allele</th>\n",
       "      <th>Alt_Allele</th>\n",
       "      <th>beta</th>\n",
       "      <th>Gene</th>\n",
       "    </tr>\n",
       "  </thead>\n",
       "  <tbody>\n",
       "    <tr>\n",
       "      <th>0</th>\n",
       "      <td>rs10224910</td>\n",
       "      <td>43125018</td>\n",
       "      <td>G</td>\n",
       "      <td>A</td>\n",
       "      <td>0.0202</td>\n",
       "      <td>STK17A</td>\n",
       "    </tr>\n",
       "    <tr>\n",
       "      <th>1</th>\n",
       "      <td>rs10254637</td>\n",
       "      <td>43125197</td>\n",
       "      <td>A</td>\n",
       "      <td>C</td>\n",
       "      <td>0.0155</td>\n",
       "      <td>STK17A</td>\n",
       "    </tr>\n",
       "    <tr>\n",
       "      <th>2</th>\n",
       "      <td>rs7793393</td>\n",
       "      <td>43129868</td>\n",
       "      <td>G</td>\n",
       "      <td>A</td>\n",
       "      <td>0.0182</td>\n",
       "      <td>STK17A</td>\n",
       "    </tr>\n",
       "    <tr>\n",
       "      <th>3</th>\n",
       "      <td>rs7798775</td>\n",
       "      <td>43147965</td>\n",
       "      <td>G</td>\n",
       "      <td>A</td>\n",
       "      <td>0.0288</td>\n",
       "      <td>STK17A</td>\n",
       "    </tr>\n",
       "    <tr>\n",
       "      <th>4</th>\n",
       "      <td>rs4724175</td>\n",
       "      <td>43149715</td>\n",
       "      <td>T</td>\n",
       "      <td>G</td>\n",
       "      <td>0.0149</td>\n",
       "      <td>STK17A</td>\n",
       "    </tr>\n",
       "  </tbody>\n",
       "</table>\n",
       "</div>"
      ],
      "text/plain": [
       "       SNP_ID   SNP_Pos Ref_Allele Alt_Allele    beta    Gene\n",
       "0  rs10224910  43125018          G          A  0.0202  STK17A\n",
       "1  rs10254637  43125197          A          C  0.0155  STK17A\n",
       "2   rs7793393  43129868          G          A  0.0182  STK17A\n",
       "3   rs7798775  43147965          G          A  0.0288  STK17A\n",
       "4   rs4724175  43149715          T          G  0.0149  STK17A"
      ]
     },
     "execution_count": 8,
     "metadata": {},
     "output_type": "execute_result"
    }
   ],
   "source": [
    "studies['NTR'].head()"
   ]
  },
  {
   "cell_type": "code",
   "execution_count": 9,
   "metadata": {
    "collapsed": false
   },
   "outputs": [],
   "source": [
    "for study, study_df in studies.iteritems():\n",
    "    fn = 'BSLMM_%s_aggregated.tsv' % study\n",
    "    study_df.to_csv(os.path.join(config['analysis']['dir'],\n",
    "                                 fn),\n",
    "                    sep='\\t')"
   ]
  },
  {
   "cell_type": "code",
   "execution_count": null,
   "metadata": {
    "collapsed": true
   },
   "outputs": [],
   "source": []
  }
 ],
 "metadata": {
  "kernelspec": {
   "display_name": "Python 2",
   "language": "python",
   "name": "python2"
  },
  "language_info": {
   "codemirror_mode": {
    "name": "ipython",
    "version": 2
   },
   "file_extension": ".py",
   "mimetype": "text/x-python",
   "name": "python",
   "nbconvert_exporter": "python",
   "pygments_lexer": "ipython2",
   "version": "2.7.10"
  }
 },
 "nbformat": 4,
 "nbformat_minor": 0
}
