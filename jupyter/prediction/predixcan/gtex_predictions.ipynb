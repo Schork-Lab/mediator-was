{
 "cells": [
  {
   "cell_type": "code",
   "execution_count": 1,
   "metadata": {
    "collapsed": false
   },
   "outputs": [],
   "source": [
    "%load_ext autoreload\n",
    "%autoreload 2"
   ]
  },
  {
   "cell_type": "code",
   "execution_count": 2,
   "metadata": {
    "collapsed": true
   },
   "outputs": [],
   "source": [
    "import pandas as pd\n",
    "import gzip\n",
    "import os"
   ]
  },
  {
   "cell_type": "code",
   "execution_count": 3,
   "metadata": {
    "collapsed": false
   },
   "outputs": [],
   "source": [
    "import mediator_was.processing.gtex as gtex\n",
    "import mediator_was.processing.predixcan as predixcan\n",
    "import mediator_was.prediction as prediction\n",
    "import yaml"
   ]
  },
  {
   "cell_type": "code",
   "execution_count": null,
   "metadata": {
    "collapsed": true
   },
   "outputs": [],
   "source": [
    "analysis_dir = \"../../analysis/2015-12-13\""
   ]
  },
  {
   "cell_type": "code",
   "execution_count": 4,
   "metadata": {
    "collapsed": false
   },
   "outputs": [],
   "source": [
    "config = yaml.load(open('../../../config.yaml'))"
   ]
  },
  {
   "cell_type": "code",
   "execution_count": 5,
   "metadata": {
    "collapsed": false
   },
   "outputs": [
    {
     "data": {
      "text/plain": [
       "{'data': {'gtex': {'dir': '/projects/gtex/data',\n",
       "   'files': {'expression': 'ExpressionFiles/gtex.portal.normalized/Whole_Blood_Analysis.expr.txt',\n",
       "    'genotypes': 'GenotypeFiles/450-Individuals/2015-01-12/GTEx_Analysis_20150112_OMNI_2.5M_5M_450Indiv_chr1to22_phased_genot_imput_info04_maf01_HWEp1E6_ConstrVarIDs.vcf.gz'}},\n",
       "  'predixcan': {'dir': '/home/kbhutani/projects/mediator/data/predixcan/',\n",
       "   'files': {'database': 'DGN-WB_0.5.txt'}},\n",
       "  'references': {'dbsnp': '/projects/references/snp142Common.txt.gz'}}}"
      ]
     },
     "execution_count": 5,
     "metadata": {},
     "output_type": "execute_result"
    }
   ],
   "source": [
    "config"
   ]
  },
  {
   "cell_type": "markdown",
   "metadata": {},
   "source": [
    "## Model: Alpha-1"
   ]
  },
  {
   "cell_type": "markdown",
   "metadata": {},
   "source": [
    "#### Process and load Gustavo Data"
   ]
  },
  {
   "cell_type": "code",
   "execution_count": 6,
   "metadata": {
    "collapsed": false
   },
   "outputs": [],
   "source": [
    "# Add positions to database\n",
    "new_db = os.path.join(predixcan.main_dir, \"EN.withpos.tsv\")\n",
    "#predixcan.add_positions_to_database(fn=new_db)"
   ]
  },
  {
   "cell_type": "code",
   "execution_count": 7,
   "metadata": {
    "collapsed": false
   },
   "outputs": [
    {
     "name": "stdout",
     "output_type": "stream",
     "text": [
      "-rw-r--r--. 1 kbhutani schork 38M Dec 10 13:01 /home/kbhutani/projects/mediator/data/predixcan/EN.withpos.tsv\r\n"
     ]
    }
   ],
   "source": [
    "!ls -lh $new_db"
   ]
  },
  {
   "cell_type": "code",
   "execution_count": 8,
   "metadata": {
    "collapsed": false
   },
   "outputs": [],
   "source": [
    "# Load database\n",
    "en_df = predixcan.load_database(new_db, alpha=1)"
   ]
  },
  {
   "cell_type": "code",
   "execution_count": 9,
   "metadata": {
    "collapsed": false
   },
   "outputs": [
    {
     "data": {
      "text/html": [
       "<div>\n",
       "<table border=\"1\" class=\"dataframe\">\n",
       "  <thead>\n",
       "    <tr style=\"text-align: right;\">\n",
       "      <th></th>\n",
       "      <th>gene</th>\n",
       "      <th>rsid</th>\n",
       "      <th>refAllele</th>\n",
       "      <th>alt</th>\n",
       "      <th>beta</th>\n",
       "      <th>alpha</th>\n",
       "      <th>id</th>\n",
       "      <th>chr</th>\n",
       "      <th>start</th>\n",
       "      <th>end</th>\n",
       "      <th>chromosome</th>\n",
       "      <th>position</th>\n",
       "    </tr>\n",
       "  </thead>\n",
       "  <tbody>\n",
       "    <tr>\n",
       "      <th>0</th>\n",
       "      <td>A2LD1</td>\n",
       "      <td>rs11069419</td>\n",
       "      <td>T</td>\n",
       "      <td>C</td>\n",
       "      <td>-0.034054</td>\n",
       "      <td>1</td>\n",
       "      <td>1359</td>\n",
       "      <td>chr13</td>\n",
       "      <td>101561096</td>\n",
       "      <td>101561097</td>\n",
       "      <td>chr13</td>\n",
       "      <td>101561097</td>\n",
       "    </tr>\n",
       "    <tr>\n",
       "      <th>1</th>\n",
       "      <td>A2LD1</td>\n",
       "      <td>rs11842969</td>\n",
       "      <td>C</td>\n",
       "      <td>T</td>\n",
       "      <td>-0.381005</td>\n",
       "      <td>1</td>\n",
       "      <td>1357</td>\n",
       "      <td>chr13</td>\n",
       "      <td>101214374</td>\n",
       "      <td>101214375</td>\n",
       "      <td>chr13</td>\n",
       "      <td>101214375</td>\n",
       "    </tr>\n",
       "    <tr>\n",
       "      <th>2</th>\n",
       "      <td>A2LD1</td>\n",
       "      <td>rs1283142</td>\n",
       "      <td>C</td>\n",
       "      <td>A</td>\n",
       "      <td>-0.013816</td>\n",
       "      <td>1</td>\n",
       "      <td>1358</td>\n",
       "      <td>chr13</td>\n",
       "      <td>101392263</td>\n",
       "      <td>101392264</td>\n",
       "      <td>chr13</td>\n",
       "      <td>101392264</td>\n",
       "    </tr>\n",
       "    <tr>\n",
       "      <th>3</th>\n",
       "      <td>A2LD1</td>\n",
       "      <td>rs1283211</td>\n",
       "      <td>C</td>\n",
       "      <td>T</td>\n",
       "      <td>0.022643</td>\n",
       "      <td>1</td>\n",
       "      <td>1358</td>\n",
       "      <td>chr13</td>\n",
       "      <td>101369270</td>\n",
       "      <td>101369271</td>\n",
       "      <td>chr13</td>\n",
       "      <td>101369271</td>\n",
       "    </tr>\n",
       "    <tr>\n",
       "      <th>4</th>\n",
       "      <td>TMTC4</td>\n",
       "      <td>rs1283211</td>\n",
       "      <td>C</td>\n",
       "      <td>T</td>\n",
       "      <td>0.006821</td>\n",
       "      <td>1</td>\n",
       "      <td>1358</td>\n",
       "      <td>chr13</td>\n",
       "      <td>101369270</td>\n",
       "      <td>101369271</td>\n",
       "      <td>chr13</td>\n",
       "      <td>101369271</td>\n",
       "    </tr>\n",
       "  </tbody>\n",
       "</table>\n",
       "</div>"
      ],
      "text/plain": [
       "    gene        rsid refAllele alt      beta  alpha    id    chr      start  \\\n",
       "0  A2LD1  rs11069419         T   C -0.034054      1  1359  chr13  101561096   \n",
       "1  A2LD1  rs11842969         C   T -0.381005      1  1357  chr13  101214374   \n",
       "2  A2LD1   rs1283142         C   A -0.013816      1  1358  chr13  101392263   \n",
       "3  A2LD1   rs1283211         C   T  0.022643      1  1358  chr13  101369270   \n",
       "4  TMTC4   rs1283211         C   T  0.006821      1  1358  chr13  101369270   \n",
       "\n",
       "         end chromosome   position  \n",
       "0  101561097      chr13  101561097  \n",
       "1  101214375      chr13  101214375  \n",
       "2  101392264      chr13  101392264  \n",
       "3  101369271      chr13  101369271  \n",
       "4  101369271      chr13  101369271  "
      ]
     },
     "execution_count": 9,
     "metadata": {},
     "output_type": "execute_result"
    }
   ],
   "source": [
    "en_df.head()"
   ]
  },
  {
   "cell_type": "markdown",
   "metadata": {},
   "source": [
    "### Predicted Values"
   ]
  },
  {
   "cell_type": "markdown",
   "metadata": {},
   "source": [
    "#### TODO: Unit Test for Predicted Values"
   ]
  },
  {
   "cell_type": "code",
   "execution_count": null,
   "metadata": {
    "collapsed": false
   },
   "outputs": [],
   "source": [
    "genotype_file = gtex.genotype_fn\n",
    "predictions_df = prediction.helpers.stream_predict(en_df, genotype_file)"
   ]
  },
  {
   "cell_type": "markdown",
   "metadata": {},
   "source": [
    "#### Note that it did not compute on the HLA related genes. Let's remove them from further analysis."
   ]
  },
  {
   "cell_type": "code",
   "execution_count": null,
   "metadata": {
    "collapsed": false
   },
   "outputs": [],
   "source": [
    "hla_related_genes = set(en_df[en_df['chromosome'] == 25]['gene'])"
   ]
  },
  {
   "cell_type": "code",
   "execution_count": null,
   "metadata": {
    "collapsed": false
   },
   "outputs": [],
   "source": [
    "full_predicted_genes = set(predictions_df.index) - hla_related_genes\n",
    "full_predicted_df = predictions_df.ix[full_predicted_genes]\n",
    "full_predicted_df.columns = full_predicted_df.columns.map(lambda x: \"-\".join(x.split('-')[:2]))"
   ]
  },
  {
   "cell_type": "code",
   "execution_count": null,
   "metadata": {
    "collapsed": false
   },
   "outputs": [],
   "source": [
    "full_predicted_df.head()"
   ]
  },
  {
   "cell_type": "code",
   "execution_count": null,
   "metadata": {
    "collapsed": true
   },
   "outputs": [],
   "source": []
  },
  {
   "cell_type": "markdown",
   "metadata": {},
   "source": [
    "## Model Alpha=0.5"
   ]
  },
  {
   "cell_type": "code",
   "execution_count": 29,
   "metadata": {
    "collapsed": false
   },
   "outputs": [
    {
     "name": "stdout",
     "output_type": "stream",
     "text": [
      "Total 331599\n",
      "Not Found 13\n",
      "Incorrect 0\n",
      "Switched 0\n"
     ]
    }
   ],
   "source": [
    "# Load database\n",
    "en_df = predixcan.load_database(new_db, alpha=0.5)\n",
    "genotype_file = gtex.genotype_fn\n",
    "predictions_df = prediction.helpers.stream_predict(en_df, genotype_file)"
   ]
  },
  {
   "cell_type": "code",
   "execution_count": 30,
   "metadata": {
    "collapsed": false
   },
   "outputs": [
    {
     "data": {
      "text/html": [
       "<div>\n",
       "<table border=\"1\" class=\"dataframe\">\n",
       "  <thead>\n",
       "    <tr style=\"text-align: right;\">\n",
       "      <th></th>\n",
       "      <th>gene</th>\n",
       "      <th>rsid</th>\n",
       "      <th>refAllele</th>\n",
       "      <th>alt</th>\n",
       "      <th>beta</th>\n",
       "      <th>alpha</th>\n",
       "      <th>id</th>\n",
       "      <th>chr</th>\n",
       "      <th>start</th>\n",
       "      <th>end</th>\n",
       "      <th>chromosome</th>\n",
       "      <th>position</th>\n",
       "    </tr>\n",
       "  </thead>\n",
       "  <tbody>\n",
       "    <tr>\n",
       "      <th>15588</th>\n",
       "      <td>CDC7</td>\n",
       "      <td>rs10801817</td>\n",
       "      <td>C</td>\n",
       "      <td>T</td>\n",
       "      <td>-0.002368292</td>\n",
       "      <td>0.5</td>\n",
       "      <td>1279</td>\n",
       "      <td>chr1</td>\n",
       "      <td>91001088</td>\n",
       "      <td>91001089</td>\n",
       "      <td>1</td>\n",
       "      <td>91001089</td>\n",
       "    </tr>\n",
       "    <tr>\n",
       "      <th>32141</th>\n",
       "      <td>HHIPL2</td>\n",
       "      <td>rs34651530</td>\n",
       "      <td>A</td>\n",
       "      <td>G</td>\n",
       "      <td>-0.05389286</td>\n",
       "      <td>0.5</td>\n",
       "      <td>2286</td>\n",
       "      <td>chr1</td>\n",
       "      <td>222985196</td>\n",
       "      <td>222985197</td>\n",
       "      <td>1</td>\n",
       "      <td>222985197</td>\n",
       "    </tr>\n",
       "    <tr>\n",
       "      <th>66724</th>\n",
       "      <td>C3orf52</td>\n",
       "      <td>rs10934162</td>\n",
       "      <td>C</td>\n",
       "      <td>T</td>\n",
       "      <td>0.005354781</td>\n",
       "      <td>0.5</td>\n",
       "      <td>1439</td>\n",
       "      <td>chr3</td>\n",
       "      <td>112001324</td>\n",
       "      <td>112001325</td>\n",
       "      <td>3</td>\n",
       "      <td>112001325</td>\n",
       "    </tr>\n",
       "    <tr>\n",
       "      <th>124752</th>\n",
       "      <td>CDK13</td>\n",
       "      <td>rs2329611</td>\n",
       "      <td>C</td>\n",
       "      <td>T</td>\n",
       "      <td>0.003770901</td>\n",
       "      <td>0.5</td>\n",
       "      <td>890</td>\n",
       "      <td>chr7</td>\n",
       "      <td>40008948</td>\n",
       "      <td>40008949</td>\n",
       "      <td>7</td>\n",
       "      <td>40008949</td>\n",
       "    </tr>\n",
       "    <tr>\n",
       "      <th>127761</th>\n",
       "      <td>ZP3</td>\n",
       "      <td>rs17149187</td>\n",
       "      <td>A</td>\n",
       "      <td>G</td>\n",
       "      <td>0.03886865</td>\n",
       "      <td>0.5</td>\n",
       "      <td>1164</td>\n",
       "      <td>chr7</td>\n",
       "      <td>75998572</td>\n",
       "      <td>75998573</td>\n",
       "      <td>7</td>\n",
       "      <td>75998573</td>\n",
       "    </tr>\n",
       "    <tr>\n",
       "      <th>193217</th>\n",
       "      <td>MED17</td>\n",
       "      <td>rs11020719</td>\n",
       "      <td>G</td>\n",
       "      <td>A</td>\n",
       "      <td>-0.01918575</td>\n",
       "      <td>0.5</td>\n",
       "      <td>1302</td>\n",
       "      <td>chr11</td>\n",
       "      <td>94008519</td>\n",
       "      <td>94008520</td>\n",
       "      <td>11</td>\n",
       "      <td>94008520</td>\n",
       "    </tr>\n",
       "    <tr>\n",
       "      <th>209529</th>\n",
       "      <td>KRR1</td>\n",
       "      <td>rs1026784</td>\n",
       "      <td>G</td>\n",
       "      <td>A</td>\n",
       "      <td>-0.03149808</td>\n",
       "      <td>0.5</td>\n",
       "      <td>1164</td>\n",
       "      <td>chr12</td>\n",
       "      <td>75997732</td>\n",
       "      <td>75997733</td>\n",
       "      <td>12</td>\n",
       "      <td>75997733</td>\n",
       "    </tr>\n",
       "    <tr>\n",
       "      <th>221980</th>\n",
       "      <td>CDC16</td>\n",
       "      <td>rs7994556</td>\n",
       "      <td>C</td>\n",
       "      <td>T</td>\n",
       "      <td>0.03752229</td>\n",
       "      <td>0.5</td>\n",
       "      <td>1462</td>\n",
       "      <td>chr13</td>\n",
       "      <td>114998075</td>\n",
       "      <td>114998076</td>\n",
       "      <td>13</td>\n",
       "      <td>114998076</td>\n",
       "    </tr>\n",
       "    <tr>\n",
       "      <th>229195</th>\n",
       "      <td>FCF1</td>\n",
       "      <td>rs17183663</td>\n",
       "      <td>C</td>\n",
       "      <td>A</td>\n",
       "      <td>0.001574773</td>\n",
       "      <td>0.5</td>\n",
       "      <td>1164</td>\n",
       "      <td>chr14</td>\n",
       "      <td>76001456</td>\n",
       "      <td>76001457</td>\n",
       "      <td>14</td>\n",
       "      <td>76001457</td>\n",
       "    </tr>\n",
       "    <tr>\n",
       "      <th>256578</th>\n",
       "      <td>ZNF469</td>\n",
       "      <td>rs4843756</td>\n",
       "      <td>C</td>\n",
       "      <td>T</td>\n",
       "      <td>0.01060286</td>\n",
       "      <td>0.5</td>\n",
       "      <td>1256</td>\n",
       "      <td>chr16</td>\n",
       "      <td>88003483</td>\n",
       "      <td>88003484</td>\n",
       "      <td>16</td>\n",
       "      <td>88003484</td>\n",
       "    </tr>\n",
       "    <tr>\n",
       "      <th>274587</th>\n",
       "      <td>CD300C</td>\n",
       "      <td>rs3744203</td>\n",
       "      <td>A</td>\n",
       "      <td>G</td>\n",
       "      <td>-0.01523667</td>\n",
       "      <td>0.5</td>\n",
       "      <td>1141</td>\n",
       "      <td>chr17</td>\n",
       "      <td>73000060</td>\n",
       "      <td>73000061</td>\n",
       "      <td>17</td>\n",
       "      <td>73000061</td>\n",
       "    </tr>\n",
       "    <tr>\n",
       "      <th>274588</th>\n",
       "      <td>NT5C</td>\n",
       "      <td>rs3744203</td>\n",
       "      <td>A</td>\n",
       "      <td>G</td>\n",
       "      <td>-0.0138357</td>\n",
       "      <td>0.5</td>\n",
       "      <td>1141</td>\n",
       "      <td>chr17</td>\n",
       "      <td>73000060</td>\n",
       "      <td>73000061</td>\n",
       "      <td>17</td>\n",
       "      <td>73000061</td>\n",
       "    </tr>\n",
       "    <tr>\n",
       "      <th>312058</th>\n",
       "      <td>C20orf112</td>\n",
       "      <td>rs14353</td>\n",
       "      <td>C</td>\n",
       "      <td>T</td>\n",
       "      <td>0.0023691</td>\n",
       "      <td>0.5</td>\n",
       "      <td>820</td>\n",
       "      <td>chr20</td>\n",
       "      <td>30922397</td>\n",
       "      <td>30922398</td>\n",
       "      <td>20</td>\n",
       "      <td>30922398</td>\n",
       "    </tr>\n",
       "  </tbody>\n",
       "</table>\n",
       "</div>"
      ],
      "text/plain": [
       "             gene        rsid refAllele alt         beta alpha    id    chr  \\\n",
       "15588        CDC7  rs10801817         C   T -0.002368292   0.5  1279   chr1   \n",
       "32141      HHIPL2  rs34651530         A   G  -0.05389286   0.5  2286   chr1   \n",
       "66724     C3orf52  rs10934162         C   T  0.005354781   0.5  1439   chr3   \n",
       "124752      CDK13   rs2329611         C   T  0.003770901   0.5   890   chr7   \n",
       "127761        ZP3  rs17149187         A   G   0.03886865   0.5  1164   chr7   \n",
       "193217      MED17  rs11020719         G   A  -0.01918575   0.5  1302  chr11   \n",
       "209529       KRR1   rs1026784         G   A  -0.03149808   0.5  1164  chr12   \n",
       "221980      CDC16   rs7994556         C   T   0.03752229   0.5  1462  chr13   \n",
       "229195       FCF1  rs17183663         C   A  0.001574773   0.5  1164  chr14   \n",
       "256578     ZNF469   rs4843756         C   T   0.01060286   0.5  1256  chr16   \n",
       "274587     CD300C   rs3744203         A   G  -0.01523667   0.5  1141  chr17   \n",
       "274588       NT5C   rs3744203         A   G   -0.0138357   0.5  1141  chr17   \n",
       "312058  C20orf112     rs14353         C   T    0.0023691   0.5   820  chr20   \n",
       "\n",
       "            start        end chromosome   position  \n",
       "15588    91001088   91001089          1   91001089  \n",
       "32141   222985196  222985197          1  222985197  \n",
       "66724   112001324  112001325          3  112001325  \n",
       "124752   40008948   40008949          7   40008949  \n",
       "127761   75998572   75998573          7   75998573  \n",
       "193217   94008519   94008520         11   94008520  \n",
       "209529   75997732   75997733         12   75997733  \n",
       "221980  114998075  114998076         13  114998076  \n",
       "229195   76001456   76001457         14   76001457  \n",
       "256578   88003483   88003484         16   88003484  \n",
       "274587   73000060   73000061         17   73000061  \n",
       "274588   73000060   73000061         17   73000061  \n",
       "312058   30922397   30922398         20   30922398  "
      ]
     },
     "execution_count": 30,
     "metadata": {},
     "output_type": "execute_result"
    }
   ],
   "source": [
    "pd.concat([pd.DataFrame(x).T for x in not_found])"
   ]
  },
  {
   "cell_type": "code",
   "execution_count": 31,
   "metadata": {
    "collapsed": true
   },
   "outputs": [],
   "source": [
    "hla_related_genes = set(en_df[en_df['chromosome'] == 25]['gene'])\n",
    "full_predicted_genes = set(predictions_df.index) - hla_related_genes\n",
    "full_predicted_df = predictions_df.ix[full_predicted_genes]\n",
    "full_predicted_df.columns = full_predicted_df.columns.map(lambda x: \"-\".join(x.split('-')[:2]))"
   ]
  },
  {
   "cell_type": "code",
   "execution_count": 33,
   "metadata": {
    "collapsed": false
   },
   "outputs": [],
   "source": [
    "full_predicted_df.to_csv(os.path.join(analysis_dir, \"gtex.predixcan.elasticnet.minus-hla.tsv\",\n",
    "                        sep=\"\\t\")"
   ]
  },
  {
   "cell_type": "code",
   "execution_count": null,
   "metadata": {
    "collapsed": true
   },
   "outputs": [],
   "source": []
  }
 ],
 "metadata": {
  "kernelspec": {
   "display_name": "Python 2",
   "language": "python",
   "name": "python2"
  },
  "language_info": {
   "codemirror_mode": {
    "name": "ipython",
    "version": 2
   },
   "file_extension": ".py",
   "mimetype": "text/x-python",
   "name": "python",
   "nbconvert_exporter": "python",
   "pygments_lexer": "ipython2",
   "version": "2.7.10"
  }
 },
 "nbformat": 4,
 "nbformat_minor": 0
}
